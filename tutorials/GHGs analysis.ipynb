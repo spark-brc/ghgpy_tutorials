{
 "cells": [
  {
   "cell_type": "markdown",
   "id": "e5223e55",
   "metadata": {},
   "source": [
    "# 00. import necessary libraries"
   ]
  },
  {
   "cell_type": "code",
   "execution_count": null,
   "id": "f5ee511a",
   "metadata": {},
   "outputs": [],
   "source": [
    "import os\n",
    "import warnings\n",
    "warnings.filterwarnings(\"ignore\")\n",
    "warnings.filterwarnings(\"ignore\", category=DeprecationWarning) \n",
    "import pandas as pd\n",
    "import numpy as np\n",
    "import matplotlib.pyplot as plt\n",
    "import sys\n",
    "\n",
    "# let's check to see if ghgpy module imported properly\n",
    "import ghgpy\n",
    "assert \"dependencies\" in ghgpy.__file__\n"
   ]
  },
  {
   "cell_type": "code",
   "execution_count": null,
   "id": "9a53c69a",
   "metadata": {},
   "outputs": [],
   "source": [
    "# use ghgpy module\n",
    "from ghgpy.runs import run_dc_multi, run_dndc\n",
    "from ghgpy.utils import PostPr\n",
    "from ghgpy.analyzer import (\n",
    "    plot_oom, plot_tseries_ch4, plot_tseries_ch4_tot, plot_violin, plot_oot)"
   ]
  },
  {
   "cell_type": "markdown",
   "id": "503c36c5",
   "metadata": {},
   "source": [
    "# 01. set a path to working directory"
   ]
  },
  {
   "cell_type": "code",
   "execution_count": null,
   "id": "c0c90c95",
   "metadata": {},
   "outputs": [],
   "source": [
    "# path to your folder containing \"input_ghg.csv\" file\n",
    "wd = \"D:/Projects/Tools/ghgpy_tut/models/kimjae\""
   ]
  },
  {
   "cell_type": "markdown",
   "id": "e812538f",
   "metadata": {},
   "source": [
    "# 02. Run models"
   ]
  },
  {
   "cell_type": "markdown",
   "id": "158b5605",
   "metadata": {},
   "source": [
    "## 02-01. DayCent module"
   ]
  },
  {
   "cell_type": "code",
   "execution_count": null,
   "id": "d698e9f2",
   "metadata": {},
   "outputs": [],
   "source": [
    "run_dc_multi(wd)"
   ]
  },
  {
   "cell_type": "code",
   "execution_count": null,
   "id": "8dba6524",
   "metadata": {},
   "outputs": [],
   "source": [
    "# read output\n",
    "so_df = PostPr(wd).get_ch4_so_df(outfnam=\"ch4_multi_dc.out\")"
   ]
  },
  {
   "cell_type": "code",
   "execution_count": null,
   "id": "959e79b3",
   "metadata": {
    "scrolled": true
   },
   "outputs": [],
   "source": [
    "# plot CH4 emissions in timeseries\n",
    "plot_tseries_ch4(so_df, simnam=\"ch4e_tot\", height=3, dot=False)"
   ]
  },
  {
   "cell_type": "markdown",
   "id": "90f81d76",
   "metadata": {},
   "source": [
    "## 02-02. DNDC module"
   ]
  },
  {
   "cell_type": "code",
   "execution_count": null,
   "id": "c92014e9",
   "metadata": {},
   "outputs": [],
   "source": [
    "run_dndc(wd)"
   ]
  },
  {
   "cell_type": "code",
   "execution_count": null,
   "id": "85d90988",
   "metadata": {},
   "outputs": [],
   "source": [
    "# read output\n",
    "so_df = PostPr(wd).get_ch4_so_df(outfnam=\"ch4_multi_dndc.out\")"
   ]
  },
  {
   "cell_type": "code",
   "execution_count": null,
   "id": "bd63cf53",
   "metadata": {},
   "outputs": [],
   "source": [
    "plot_tseries_ch4(so_df, simnam=\"ch4e_tot\", height=3, dot=False)"
   ]
  },
  {
   "cell_type": "code",
   "execution_count": null,
   "id": "cbe3eb8e",
   "metadata": {},
   "outputs": [],
   "source": []
  }
 ],
 "metadata": {
  "kernelspec": {
   "display_name": "Python 3 (ipykernel)",
   "language": "python",
   "name": "python3"
  },
  "language_info": {
   "codemirror_mode": {
    "name": "ipython",
    "version": 3
   },
   "file_extension": ".py",
   "mimetype": "text/x-python",
   "name": "python",
   "nbconvert_exporter": "python",
   "pygments_lexer": "ipython3",
   "version": "3.10.6"
  }
 },
 "nbformat": 4,
 "nbformat_minor": 5
}
